{
 "cells": [
  {
   "cell_type": "code",
   "id": "initial_id",
   "metadata": {
    "collapsed": true,
    "ExecuteTime": {
     "end_time": "2025-04-22T05:39:49.780402Z",
     "start_time": "2025-04-22T05:39:49.775493Z"
    }
   },
   "source": [
    "def palindrome(n):\n",
    "    dup=n\n",
    "    reversed=0\n",
    "    while (n>0):\n",
    "        last_digit=n%10\n",
    "        reversed=(reversed*10)+last_digit\n",
    "        n=n//10\n",
    "\n",
    "    if reversed==dup:\n",
    "        print(\"Palindrome\")\n",
    "    else:\n",
    "        print(\"Not palindrome\")\n"
   ],
   "outputs": [],
   "execution_count": 4
  },
  {
   "metadata": {
    "ExecuteTime": {
     "end_time": "2025-04-22T05:39:50.621344Z",
     "start_time": "2025-04-22T05:39:50.616709Z"
    }
   },
   "cell_type": "code",
   "source": "palindrome(787)",
   "id": "6307548f3760e16b",
   "outputs": [
    {
     "name": "stdout",
     "output_type": "stream",
     "text": [
      "Palindrome\n"
     ]
    }
   ],
   "execution_count": 5
  },
  {
   "metadata": {
    "ExecuteTime": {
     "end_time": "2025-04-22T05:39:58.397421Z",
     "start_time": "2025-04-22T05:39:58.392467Z"
    }
   },
   "cell_type": "code",
   "source": "palindrome(784)",
   "id": "977815770e6e63a1",
   "outputs": [
    {
     "name": "stdout",
     "output_type": "stream",
     "text": [
      "Not palindrome\n"
     ]
    }
   ],
   "execution_count": 6
  },
  {
   "metadata": {},
   "cell_type": "markdown",
   "source": [
    "Time Complexity: O(log10N + 1) where N is the input number. The time complexity is determined by the number of digits in the input integer N. In the worst case when N is a multiple of 10 the number of digits in N is log10 N + 1.\n",
    "\n",
    "In the while loop we divide N by 10 until it becomes 0 which takes log10N iterations.\n",
    "In each iteration of the while loop we perform constant time operations like modulus and division and pushing elements into the vector.\n",
    "Space Complexity: O(1) as only a constant amount of additional memory for the reversed number regardless of size of the input number."
   ],
   "id": "16d576d2ef9430b9"
  },
  {
   "metadata": {},
   "cell_type": "code",
   "outputs": [],
   "execution_count": null,
   "source": "\n",
   "id": "6ae0d7f04d6c2247"
  }
 ],
 "metadata": {
  "kernelspec": {
   "display_name": "Python 3",
   "language": "python",
   "name": "python3"
  },
  "language_info": {
   "codemirror_mode": {
    "name": "ipython",
    "version": 2
   },
   "file_extension": ".py",
   "mimetype": "text/x-python",
   "name": "python",
   "nbconvert_exporter": "python",
   "pygments_lexer": "ipython2",
   "version": "2.7.6"
  }
 },
 "nbformat": 4,
 "nbformat_minor": 5
}
