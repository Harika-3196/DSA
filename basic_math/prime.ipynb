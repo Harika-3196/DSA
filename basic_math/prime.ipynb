{
 "cells": [
  {
   "metadata": {},
   "cell_type": "markdown",
   "source": " Given an integer N, check whether it is prime or not. A prime number is a number that is only divisible by 1 and itself and the total number of divisors is 2.",
   "id": "b2dedac163a47b2d"
  },
  {
   "cell_type": "code",
   "id": "initial_id",
   "metadata": {
    "collapsed": true,
    "ExecuteTime": {
     "end_time": "2025-05-03T09:29:52.300135Z",
     "start_time": "2025-05-03T09:29:52.295373Z"
    }
   },
   "source": [
    "def is_prime(n):\n",
    "    div=[]\n",
    "    for i in range(1,n+1):\n",
    "        if n%i ==0 :\n",
    "            div.append(i)\n",
    "    if len(div)==2:\n",
    "        return \" prime\"\n",
    "    else:\n",
    "        return \"not prime\"\n"
   ],
   "outputs": [],
   "execution_count": 33
  },
  {
   "metadata": {
    "ExecuteTime": {
     "end_time": "2025-05-03T09:29:52.755218Z",
     "start_time": "2025-05-03T09:29:52.749798Z"
    }
   },
   "cell_type": "code",
   "source": "is_prime(n=2)\n",
   "id": "9bf6ca12592d7b54",
   "outputs": [
    {
     "name": "stdout",
     "output_type": "stream",
     "text": [
      "[1, 2]\n"
     ]
    },
    {
     "data": {
      "text/plain": [
       "' prime'"
      ]
     },
     "execution_count": 34,
     "metadata": {},
     "output_type": "execute_result"
    }
   ],
   "execution_count": 34
  },
  {
   "metadata": {},
   "cell_type": "markdown",
   "source": [
    "Time Complexity:\n",
    "The loop runs from 1 to n → O(n)\n",
    "\n",
    "In each iteration, you perform a modulo operation n % i → constant time → O(1)\n",
    "\n",
    "So overall:\n",
    "✅ Time complexity = O(n)\n",
    "Space Complexity:\n",
    "You're storing all the divisors of n in a list div.\n",
    "\n",
    "In the worst case, if n is not prime and has many divisors (e.g. a highly composite number), div could have up to n elements (in the worst but unrealistic edge case).\n",
    "\n",
    "But typically, a number has at most O(n) divisors.\n",
    "\n",
    "✅ Space complexity = O(n) (due to the div list)"
   ],
   "id": "b63263da998033fb"
  },
  {
   "metadata": {
    "ExecuteTime": {
     "end_time": "2025-05-03T09:31:39.337007Z",
     "start_time": "2025-05-03T09:31:39.333764Z"
    }
   },
   "cell_type": "code",
   "source": "## better approach to reduce space complexity",
   "id": "46b1a5a038dd46a2",
   "outputs": [],
   "execution_count": 37
  },
  {
   "metadata": {
    "ExecuteTime": {
     "end_time": "2025-05-03T09:31:20.410652Z",
     "start_time": "2025-05-03T09:31:20.407567Z"
    }
   },
   "cell_type": "code",
   "source": [
    "def is_prime(n):\n",
    "    cnt = 0\n",
    "    for i in range(1, n+1):\n",
    "        if n % i == 0:\n",
    "            cnt += 1\n",
    "    return \"prime\" if cnt == 2 else \"not prime\""
   ],
   "id": "e14c4359fab8edf",
   "outputs": [],
   "execution_count": null
  },
  {
   "metadata": {},
   "cell_type": "markdown",
   "source": "Optimised approach",
   "id": "2536dd960f2477af"
  },
  {
   "metadata": {
    "ExecuteTime": {
     "end_time": "2025-05-03T09:37:42.234747Z",
     "start_time": "2025-05-03T09:37:42.228910Z"
    }
   },
   "cell_type": "code",
   "source": [
    "def is_prime(n):\n",
    "    if n <= 1:\n",
    "        return False  # 0 and 1 are not prime\n",
    "    for i in range(2, int(n**0.5) + 1):\n",
    "        if n % i == 0:\n",
    "            return False  # Found a divisor, not prime\n",
    "    return True  # No divisors found, it's prime\n"
   ],
   "id": "48e6b35b0e0201df",
   "outputs": [],
   "execution_count": 38
  },
  {
   "metadata": {},
   "cell_type": "markdown",
   "source": [
    "\n",
    "n <= 1: Not prime by definition.\n",
    "\n",
    "Loop runs from 2 to √n:\n",
    "\n",
    "If any number divides n evenly, it’s not prime.\n",
    "\n",
    "If loop completes, n is prime."
   ],
   "id": "88eb0db5f34795ef"
  },
  {
   "metadata": {},
   "cell_type": "markdown",
   "source": [
    " Time and Space Complexity:\n",
    "Time: O(√n)\n",
    "\n",
    "Space: O(1) (no extra data structures used)"
   ],
   "id": "22d69bb3aa5ebfb3"
  },
  {
   "metadata": {},
   "cell_type": "markdown",
   "source": [
    "If n has any factor pair other than (1, n), at least one of them must be ≤ √n.\n",
    "\n",
    "So, it’s enough to check from 2 to √n. If no number in that range divides n, then n is prime."
   ],
   "id": "b87be5159362bca7"
  },
  {
   "metadata": {},
   "cell_type": "code",
   "outputs": [],
   "execution_count": null,
   "source": "",
   "id": "d709c0f25c2f939"
  }
 ],
 "metadata": {
  "kernelspec": {
   "display_name": "Python 3",
   "language": "python",
   "name": "python3"
  },
  "language_info": {
   "codemirror_mode": {
    "name": "ipython",
    "version": 2
   },
   "file_extension": ".py",
   "mimetype": "text/x-python",
   "name": "python",
   "nbconvert_exporter": "python",
   "pygments_lexer": "ipython2",
   "version": "2.7.6"
  }
 },
 "nbformat": 4,
 "nbformat_minor": 5
}
