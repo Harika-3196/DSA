{
 "cells": [
  {
   "metadata": {},
   "cell_type": "markdown",
   "source": [
    "Problem Statement: Given an integer N, return all divisors of N.\n",
    "\n",
    "A divisor of an integer N is a positive integer that divides N without leaving a remainder. In other words, if N is divisible by another integer without any remainder, then that integer is considered a divisor of N."
   ],
   "id": "e357b261115dcd81"
  },
  {
   "metadata": {
    "ExecuteTime": {
     "end_time": "2025-05-03T08:55:01.776985Z",
     "start_time": "2025-05-03T08:55:01.773061Z"
    }
   },
   "cell_type": "code",
   "source": [
    "def find_divisor(n):\n",
    "    div=[]\n",
    "    for i in range(1,n):\n",
    "        if n%i==0:\n",
    "            div.append(i)\n",
    "    return div\n",
    "\n"
   ],
   "id": "ebb80db7b61ac4b9",
   "outputs": [],
   "execution_count": 10
  },
  {
   "metadata": {
    "ExecuteTime": {
     "end_time": "2025-05-03T08:55:06.708921Z",
     "start_time": "2025-05-03T08:55:06.702732Z"
    }
   },
   "cell_type": "code",
   "source": "find_divisor(38)",
   "id": "7708e512c2a10365",
   "outputs": [
    {
     "data": {
      "text/plain": [
       "[1, 2, 19]"
      ]
     },
     "execution_count": 12,
     "metadata": {},
     "output_type": "execute_result"
    }
   ],
   "execution_count": 12
  },
  {
   "metadata": {},
   "cell_type": "markdown",
   "source": [
    "Time Complexity: O(N) where N is the input number. The algorithm iterates through each number from 1 to n once to check if it is a divisor.\n",
    "\n",
    "Space Complexity : O(N) where N is the input number. The algorithm iterates through each number from 1 to n once to check if it is a divisor."
   ],
   "id": "d4ce5e5d6fe2dbe"
  },
  {
   "metadata": {},
   "cell_type": "markdown",
   "source": "Optimal Approach",
   "id": "1b96769e6fc3ce14"
  },
  {
   "metadata": {},
   "cell_type": "code",
   "outputs": [],
   "execution_count": null,
   "source": [
    "import math\n",
    "\n",
    "def findDivisors(n):\n",
    "    # Initialize an empty\n",
    "    # list to store the divisors\n",
    "    divisors = []\n",
    "\n",
    "    # Iterate up to the square\n",
    "    # root of n to find divisors\n",
    "    # Calculate the square root of n\n",
    "    sqrtN = int(math.sqrt(n))\n",
    "\n",
    "    # Loop from 1 to the\n",
    "    # square root of n\n",
    "    for i in range(1, sqrtN + 1):\n",
    "        # Check if i divides n\n",
    "        # without leaving a remainder\n",
    "        if n % i == 0:\n",
    "            # Add divisor i to the list\n",
    "            divisors.append(i)\n",
    "\n",
    "            # Add the counterpart divisor\n",
    "            # if it's different from i\n",
    "            if i != n // i:\n",
    "                # Add the counterpart\n",
    "                # divisor to the list\n",
    "                divisors.append(n // i)\n",
    "\n",
    "    # Return the list of divisors\n",
    "    return divisors"
   ],
   "id": "ffb8041d6e82216"
  },
  {
   "metadata": {},
   "cell_type": "markdown",
   "source": [
    "Time Complexity: O(sqrt(N)) where N is the input number. The algorithm iterates through each number from 1 to the square root of N once to check if it is a divisor.\n",
    "\n",
    "Space Complexity : O(2*sqrt(N))where N is the input number. This approach allocates memory for an array to hold all the divisors. The size of this array could go to be 2*(sqrt(N))."
   ],
   "id": "831acc4781abda67"
  }
 ],
 "metadata": {
  "kernelspec": {
   "display_name": "Python 3",
   "language": "python",
   "name": "python3"
  },
  "language_info": {
   "codemirror_mode": {
    "name": "ipython",
    "version": 2
   },
   "file_extension": ".py",
   "mimetype": "text/x-python",
   "name": "python",
   "nbconvert_exporter": "python",
   "pygments_lexer": "ipython2",
   "version": "2.7.6"
  }
 },
 "nbformat": 4,
 "nbformat_minor": 5
}
