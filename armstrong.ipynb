{
 "cells": [
  {
   "cell_type": "code",
   "execution_count": null,
   "id": "initial_id",
   "metadata": {
    "collapsed": true
   },
   "outputs": [],
   "source": [
    "roblem Statement: Given an integer N, return true it is an Armstrong number otherwise return false.\n",
    "\n",
    "An Amrstrong number is a number that is equal to the sum of its own digits each raised to the power of the number of digits.\n",
    "\n"
   ]
  },
  {
   "metadata": {
    "ExecuteTime": {
     "end_time": "2025-05-03T07:49:48.117553Z",
     "start_time": "2025-05-03T07:49:48.110293Z"
    }
   },
   "cell_type": "code",
   "source": [
    "def count_digits(n):\n",
    "    count=0\n",
    "    while(n>0):\n",
    "        count+=1\n",
    "        n=n//10\n",
    "    return count"
   ],
   "id": "a5e0e9af65f9b097",
   "outputs": [],
   "execution_count": 1
  },
  {
   "metadata": {},
   "cell_type": "markdown",
   "source": "#my way",
   "id": "4b0d815ce43afba"
  },
  {
   "metadata": {
    "ExecuteTime": {
     "end_time": "2025-05-03T07:53:38.646421Z",
     "start_time": "2025-05-03T07:53:38.641270Z"
    }
   },
   "cell_type": "code",
   "source": [
    "def armstrong(n):\n",
    "    sum=0\n",
    "    original=n\n",
    "    count=count_digits(n)\n",
    "    while n>0:\n",
    "        last_digit=n%10\n",
    "        sum+=pow(last_digit,count)\n",
    "        n=n//10\n",
    "    if sum==original:\n",
    "        return True\n",
    "    else:\n",
    "        return False"
   ],
   "id": "a8342902f8c49b81",
   "outputs": [],
   "execution_count": 6
  },
  {
   "metadata": {
    "ExecuteTime": {
     "end_time": "2025-05-03T07:53:41.028844Z",
     "start_time": "2025-05-03T07:53:41.023099Z"
    }
   },
   "cell_type": "code",
   "source": "armstrong(153)",
   "id": "f0e485c2417e3b5e",
   "outputs": [
    {
     "data": {
      "text/plain": [
       "True"
      ]
     },
     "execution_count": 7,
     "metadata": {},
     "output_type": "execute_result"
    }
   ],
   "execution_count": 7
  },
  {
   "metadata": {
    "ExecuteTime": {
     "end_time": "2025-05-03T07:52:42.810169Z",
     "start_time": "2025-05-03T07:52:42.803713Z"
    }
   },
   "cell_type": "code",
   "source": "pow(3,3)",
   "id": "68e96ce61c9860c2",
   "outputs": [
    {
     "data": {
      "text/plain": [
       "27"
      ]
     },
     "execution_count": 5,
     "metadata": {},
     "output_type": "execute_result"
    }
   ],
   "execution_count": 5
  },
  {
   "metadata": {},
   "cell_type": "markdown",
   "source": "# actual answer",
   "id": "dfb1e2bca32e2469"
  },
  {
   "metadata": {
    "ExecuteTime": {
     "end_time": "2025-05-03T07:54:58.576062Z",
     "start_time": "2025-05-03T07:54:58.570654Z"
    }
   },
   "cell_type": "code",
   "source": [
    "def isArmstrong(num):\n",
    "    # Calculate the number of\n",
    "    # digits in the given number\n",
    "    k = len(str(num))\n",
    "    # Initialize the sum of digits\n",
    "    # raised to the power of k to 0\n",
    "    sum = 0\n",
    "    # Copy the value of the input\n",
    "    # number to a temporary variable n\n",
    "    n = num\n",
    "    # Iterate through each\n",
    "    # digit of the number\n",
    "    while n > 0:\n",
    "        # Extract the last\n",
    "        # digit of the number\n",
    "        ld = n % 10\n",
    "        # Add the digit raised to\n",
    "        # the power of k to the sum\n",
    "        sum += ld ** k\n",
    "        # Remove the last digit\n",
    "        # from the number\n",
    "        n = n // 10\n",
    "    # Check if the sum of digits raised to\n",
    "    # the power of k equals the original number\n",
    "    return sum == num"
   ],
   "id": "5b07f63398619dc9",
   "outputs": [],
   "execution_count": 8
  },
  {
   "metadata": {
    "ExecuteTime": {
     "end_time": "2025-05-03T07:55:12.628054Z",
     "start_time": "2025-05-03T07:55:12.622547Z"
    }
   },
   "cell_type": "code",
   "source": "isArmstrong(152)",
   "id": "615eeac1499feff2",
   "outputs": [
    {
     "data": {
      "text/plain": [
       "False"
      ]
     },
     "execution_count": 10,
     "metadata": {},
     "output_type": "execute_result"
    }
   ],
   "execution_count": 10
  },
  {
   "metadata": {},
   "cell_type": "markdown",
   "source": [
    "Time Complexity: O(log10N + 1) where N is the input number. The time complexity is determined by the number of digits in the input integer N. In the worst case when N is a multiple of 10 the number of digits in N is log10 N + 1.\n",
    "\n",
    "In the while loop we divide N by 10 until it becomes 0 which takes log10N iterations.\n",
    "In each iteration of the while loop we perform constant time operations like modulus and division and pushing elements into the vector.\n",
    "Space Complexity: O(1) as only a constant amount of additional memory for the reversed number regardless of size of the input number."
   ],
   "id": "23cd536e6e0fae45"
  },
  {
   "metadata": {},
   "cell_type": "code",
   "outputs": [],
   "execution_count": null,
   "source": "",
   "id": "204115179ac37e92"
  }
 ],
 "metadata": {
  "kernelspec": {
   "display_name": "Python 3",
   "language": "python",
   "name": "python3"
  },
  "language_info": {
   "codemirror_mode": {
    "name": "ipython",
    "version": 2
   },
   "file_extension": ".py",
   "mimetype": "text/x-python",
   "name": "python",
   "nbconvert_exporter": "python",
   "pygments_lexer": "ipython2",
   "version": "2.7.6"
  }
 },
 "nbformat": 4,
 "nbformat_minor": 5
}
