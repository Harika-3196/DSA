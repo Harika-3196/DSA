{
 "cells": [
  {
   "metadata": {
    "ExecuteTime": {
     "end_time": "2025-04-22T05:58:32.708719Z",
     "start_time": "2025-04-22T05:58:32.704566Z"
    }
   },
   "cell_type": "code",
   "source": "# Given two integer N1,N2 find gcd",
   "id": "fc83dd1827a7cf3e",
   "outputs": [],
   "execution_count": 2
  },
  {
   "metadata": {},
   "cell_type": "markdown",
   "source": "bRUTE FORCE",
   "id": "c91e48100b859fbf"
  },
  {
   "metadata": {},
   "cell_type": "markdown",
   "source": [
    "Algorithm:\n",
    "Step 1: Initialise a variable gcd to 1. This variable will store the greatest common divisor of the input numbers n1 and n2.\n",
    "\n",
    "Step 2: Iterate from 1 to the minimum of n1 and n2.\n",
    "\n",
    "We start from 1 because the GCD of any two numbers is at least 1, and it cannot be greater than the smaller of the two numbers.\n",
    "Step 3: At each iteration, if i is a common factor of both n1 and n2 update the gcd variable to i. We keep updating gcd as long as we find common factors.\n",
    "\n",
    "Step 4: After the iteration, the gcd variable will store the greatest common divisor of n1 and n2. Return this value as the output of the function."
   ],
   "id": "bcb8407d58e4031a"
  },
  {
   "metadata": {
    "ExecuteTime": {
     "end_time": "2025-05-03T06:44:07.860191Z",
     "start_time": "2025-05-03T06:44:07.855602Z"
    }
   },
   "cell_type": "code",
   "source": [
    "def gcd(N1,N2):\n",
    "    gcd=1\n",
    "    for i in range(1,min(N1,N2)+1):  #STARTING SHOULD BE 1 AS COMMON FACTOR IS 1 NOT 0\n",
    "        if N1%i==0 and N2%i==0:\n",
    "            gcd=i\n",
    "    return gcd\n",
    "\n"
   ],
   "id": "b7aa040188510087",
   "outputs": [],
   "execution_count": 6
  },
  {
   "metadata": {},
   "cell_type": "code",
   "outputs": [],
   "execution_count": null,
   "source": "",
   "id": "4e5ef0b2fd30b55d"
  },
  {
   "metadata": {
    "ExecuteTime": {
     "end_time": "2025-05-03T06:44:08.403776Z",
     "start_time": "2025-05-03T06:44:08.399145Z"
    }
   },
   "cell_type": "code",
   "source": "gcd(20,15)",
   "id": "606bc85cd26c0cb",
   "outputs": [
    {
     "data": {
      "text/plain": [
       "5"
      ]
     },
     "execution_count": 7,
     "metadata": {},
     "output_type": "execute_result"
    }
   ],
   "execution_count": 7
  },
  {
   "metadata": {},
   "cell_type": "markdown",
   "source": "Time Complexity: O(min(N1, N2)) where N1 and N2 is the input number. The algorithm iterates from 1 to the minimum of N1 and N2 and each iteration checks whether both the numbers are divisible by the current number (constant time operations).",
   "id": "78304efb2eab3992"
  },
  {
   "metadata": {},
   "cell_type": "markdown",
   "source": "Space Complexity: O(1)as the space complexity remains constant and independent of the input size. Only a fixed amount of memory is required to store the integer variables.",
   "id": "f658f9c0bfb0be99"
  },
  {
   "metadata": {},
   "cell_type": "markdown",
   "source": "Better Approach",
   "id": "2bf67485734eebee"
  },
  {
   "metadata": {},
   "cell_type": "markdown",
   "source": [
    "Step 1: Iterate from the minimum of n1 and n2 because the greatest common divisor of two numbers cannot exceed the smaller number.\n",
    "\n",
    "Step 2: For each i in the iteration, we check if it is a common factor of both n1 and n2.\n",
    "\n",
    "If a common factor i is found, we return it as the gcd as we are iterating from the largest potential gcd to 1, the first common factor we encounter will be the greatest common divisor.\n",
    "Step 3: If the loop completes without finding any common factors we return 1. This is because 1 is always a divisor of any number any number hence is also the GCD of any pair of numbers where no other common factors exist."
   ],
   "id": "b23ba274382cd3d5"
  },
  {
   "metadata": {
    "ExecuteTime": {
     "end_time": "2025-05-03T07:21:36.452552Z",
     "start_time": "2025-05-03T07:21:36.448109Z"
    }
   },
   "cell_type": "code",
   "source": [
    "def gcd(N1,N2):\n",
    "    for i in range(min(N1,N2)+1,0,-1):\n",
    "        if N1%i ==0 and N2%i==0:\n",
    "            return i\n",
    "    # If no common factors are found,\n",
    "    # return 1 (as 1 is always a\n",
    "    # divisor of any number)\n",
    "    return 1"
   ],
   "id": "c4f35d253dfcc387",
   "outputs": [],
   "execution_count": 10
  },
  {
   "metadata": {
    "ExecuteTime": {
     "end_time": "2025-05-03T07:21:50.696528Z",
     "start_time": "2025-05-03T07:21:50.691069Z"
    }
   },
   "cell_type": "code",
   "source": "gcd(20,90)",
   "id": "1cc85f6c742a4509",
   "outputs": [
    {
     "data": {
      "text/plain": [
       "10"
      ]
     },
     "execution_count": 12,
     "metadata": {},
     "output_type": "execute_result"
    }
   ],
   "execution_count": 12
  },
  {
   "metadata": {},
   "cell_type": "markdown",
   "source": [
    "Time Complexity: O(min(N1, N2)) where N1 and N2 is the input number. The algorithm iterates from the minimum of N1 and N2 to 1 and each iteration checks whether both the numbers are divisible by the current number (constant time operations).\n",
    "\n",
    "Space Complexity: O(1) as the space complexity remains constant and independent of the input size. Only a fixed amount of memory is required to store the integer variables."
   ],
   "id": "b647c5634783575d"
  },
  {
   "metadata": {},
   "cell_type": "markdown",
   "source": [
    "The Euclidean Algorithm is a method for finding the greatest common divisor of two numbers. It operates on the principle that the GCD of two numbers remains the same even if the smaller number is subtracted from the larger number.\n",
    "\n",
    "To find the GCD of n1 and n2 where n1 > n2:\n",
    "\n",
    "Repeatedly subtract the smaller number from the larger number until one of them becomes 0.\n",
    "Once one of them becomes 0, the other number is the GCD of the original numbers.\n",
    "Eg, n1 = 20, n2 = 15:\n",
    "\n",
    "gcd(20, 15) = gcd(20-15, 15) = gcd(5, 15)\n",
    "\n",
    "gcd(5, 15) = gcd(15-5, 5) = gcd(10, 5)\n",
    "\n",
    "gcd(10, 5) = gcd(10-5, 5) = gcd(5, 5)\n",
    "\n",
    "gcd(5, 5) = gcd(5-5, 5) = gcd(0, 5)\n",
    "\n",
    "Hence, return 5 as the gcd."
   ],
   "id": "6927eaf305125f25"
  },
  {
   "metadata": {},
   "cell_type": "markdown",
   "source": [
    "How it works:\n",
    "\n",
    "For 20 and 15:\n",
    "20 % 15 = 5 → now a=5, b=15\n",
    "15 % 5 = 0 → loop ends, b=5 is the GCD\n",
    "Output: GCD of 20 and 15 is: 5"
   ],
   "id": "c374c0dc27282677"
  },
  {
   "metadata": {
    "ExecuteTime": {
     "end_time": "2025-05-03T07:34:59.501891Z",
     "start_time": "2025-05-03T07:34:59.495327Z"
    }
   },
   "cell_type": "code",
   "source": [
    "def gcd(a,b):\n",
    "    if a>b:\n",
    "        a=a%b\n",
    "    else:\n",
    "        b=b%a\n",
    "    if a==0:\n",
    "        return b\n",
    "     # If a is not 0,\n",
    "    # return a as the GCD\n",
    "    return a\n",
    "\n"
   ],
   "id": "2b85e4418be8e21d",
   "outputs": [],
   "execution_count": 14
  },
  {
   "metadata": {
    "ExecuteTime": {
     "end_time": "2025-05-03T07:35:11.186087Z",
     "start_time": "2025-05-03T07:35:11.180161Z"
    }
   },
   "cell_type": "code",
   "source": "gcd(20,35)",
   "id": "7b81b12bd2118b4b",
   "outputs": [
    {
     "data": {
      "text/plain": [
       "20"
      ]
     },
     "execution_count": 16,
     "metadata": {},
     "output_type": "execute_result"
    }
   ],
   "execution_count": 16
  },
  {
   "metadata": {},
   "cell_type": "markdown",
   "source": [
    "\n",
    "Complexity Analysis\n",
    "\n",
    "Time Complexity: O(min(N1, N2)) where N1 and N2 is the input number. The algorithm iterates from the minimum of N1 and N2 to 1 and each iteration checks whether both the numbers are divisible by the current number (constant time operations).\n",
    "\n",
    "Space Complexity: O(1) as the space complexity remains constant and independent of the input size. Only a fixed amount of memory is required to store the integer variable"
   ],
   "id": "3ec1ca8d68bb3d8e"
  },
  {
   "metadata": {},
   "cell_type": "code",
   "outputs": [],
   "execution_count": null,
   "source": "",
   "id": "41feea406a82286b"
  }
 ],
 "metadata": {},
 "nbformat": 4,
 "nbformat_minor": 5
}
