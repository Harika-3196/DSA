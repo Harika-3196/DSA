{
 "cells": [
  {
   "cell_type": "markdown",
   "id": "cdaf6864",
   "metadata": {},
   "source": [
    "Print square pattern"
   ]
  },
  {
   "cell_type": "code",
   "execution_count": 21,
   "id": "6b4015bb",
   "metadata": {},
   "outputs": [],
   "source": [
    "def print_square_pattern(n):\n",
    "    for i in range(n):\n",
    "        for j in range(n):\n",
    "            print(\"*\",end=\" \")\n",
    "        print()"
   ]
  },
  {
   "cell_type": "code",
   "execution_count": 20,
   "id": "7767ba1b",
   "metadata": {},
   "outputs": [
    {
     "name": "stdout",
     "output_type": "stream",
     "text": [
      "*****\n",
      "*****\n",
      "*****\n",
      "*****\n",
      "*****\n"
     ]
    }
   ],
   "source": [
    "print_square_pattern(5)"
   ]
  },
  {
   "cell_type": "markdown",
   "id": "37b8826d",
   "metadata": {},
   "source": [
    "Print step pattern"
   ]
  },
  {
   "cell_type": "code",
   "execution_count": 46,
   "id": "57813d8f",
   "metadata": {},
   "outputs": [],
   "source": [
    "def print_step_pattern(n):\n",
    "    for i in range(1,n+1):\n",
    "            print(\"*\" *i)"
   ]
  },
  {
   "cell_type": "code",
   "execution_count": 47,
   "id": "a27634be",
   "metadata": {},
   "outputs": [
    {
     "name": "stdout",
     "output_type": "stream",
     "text": [
      "*\n",
      "**\n",
      "***\n",
      "****\n",
      "*****\n"
     ]
    }
   ],
   "source": [
    "print_step_pattern(5)"
   ]
  },
  {
   "cell_type": "markdown",
   "id": "5abec724",
   "metadata": {},
   "source": [
    "print numbers in step pattern"
   ]
  },
  {
   "cell_type": "code",
   "execution_count": 59,
   "id": "57f853dd",
   "metadata": {},
   "outputs": [],
   "source": [
    "def print_number_step_pattern(n):\n",
    "    for i in range(1,n+1):\n",
    "        # print(\"i\",i)\n",
    "        for j in range(1,i+1):\n",
    "            print(j,end=\"\")\n",
    "        print()\n"
   ]
  },
  {
   "cell_type": "code",
   "execution_count": 60,
   "id": "49623cb0",
   "metadata": {},
   "outputs": [
    {
     "name": "stdout",
     "output_type": "stream",
     "text": [
      "1\n",
      "12\n",
      "123\n",
      "1234\n",
      "12345\n"
     ]
    }
   ],
   "source": [
    "print_number_step_pattern(5)"
   ]
  },
  {
   "cell_type": "markdown",
   "id": "4e0eb81f",
   "metadata": {},
   "source": [
    "print same numbers in step"
   ]
  },
  {
   "cell_type": "code",
   "execution_count": 65,
   "id": "906e4533",
   "metadata": {},
   "outputs": [],
   "source": [
    "def print_same_number_step_pattern(n):\n",
    "    for i in range(1,n+1):\n",
    "        for j in range(1,i+1):\n",
    "            print(i,end=\"\")\n",
    "        print()"
   ]
  },
  {
   "cell_type": "code",
   "execution_count": 66,
   "id": "97665c60",
   "metadata": {},
   "outputs": [
    {
     "name": "stdout",
     "output_type": "stream",
     "text": [
      "1\n",
      "22\n",
      "333\n",
      "4444\n",
      "55555\n"
     ]
    }
   ],
   "source": [
    "print_same_number_step_pattern(5)"
   ]
  },
  {
   "cell_type": "markdown",
   "id": "99c86f3f",
   "metadata": {},
   "source": [
    "print reverse star pattern"
   ]
  },
  {
   "cell_type": "code",
   "execution_count": 113,
   "id": "6e526e35",
   "metadata": {},
   "outputs": [],
   "source": [
    "def print_reverse_star(n):\n",
    "    for i in range(n,0,-1):\n",
    "        print(i)\n",
    "        print(\"* \"*i)\n"
   ]
  },
  {
   "cell_type": "code",
   "execution_count": 114,
   "id": "0bb89b6c",
   "metadata": {},
   "outputs": [
    {
     "name": "stdout",
     "output_type": "stream",
     "text": [
      "5\n",
      "* * * * * \n",
      "4\n",
      "* * * * \n",
      "3\n",
      "* * * \n",
      "2\n",
      "* * \n",
      "1\n",
      "* \n"
     ]
    }
   ],
   "source": [
    "print_reverse_star(5)"
   ]
  },
  {
   "cell_type": "markdown",
   "id": "2975c302",
   "metadata": {},
   "source": [
    "print reverse step numbers"
   ]
  },
  {
   "cell_type": "code",
   "execution_count": 158,
   "id": "82b90eae",
   "metadata": {},
   "outputs": [],
   "source": [
    "def reverse_step_numbers(n):\n",
    "    for i in range(n,0,-1):\n",
    "        for j in range(1,i+1):\n",
    "            print(j,end=\" \")\n",
    "        print()"
   ]
  },
  {
   "cell_type": "code",
   "execution_count": 159,
   "id": "bfbd79c0",
   "metadata": {},
   "outputs": [
    {
     "name": "stdout",
     "output_type": "stream",
     "text": [
      "1 2 3 4 5 \n",
      "1 2 3 4 \n",
      "1 2 3 \n",
      "1 2 \n",
      "1 \n"
     ]
    }
   ],
   "source": [
    "reverse_step_numbers(5)"
   ]
  },
  {
   "cell_type": "markdown",
   "id": "e15d06c9",
   "metadata": {},
   "source": [
    "print pyramid"
   ]
  },
  {
   "cell_type": "code",
   "execution_count": 189,
   "id": "270da2a0",
   "metadata": {},
   "outputs": [
    {
     "name": "stdout",
     "output_type": "stream",
     "text": [
      "     *\n",
      "    ***\n",
      "   *****\n",
      "  *******\n",
      " *********\n",
      "***********\n"
     ]
    }
   ],
   "source": [
    "def print_pyramid(n):\n",
    "    for i in range(n):\n",
    "        spaces = ' ' * (n - i - 1)\n",
    "        stars = '*' * (2 * i + 1)\n",
    "        print(spaces + stars)\n",
    "\n",
    "# Example usage:\n",
    "N = 6\n",
    "print_pyramid(N)\n",
    "\n",
    "       "
   ]
  },
  {
   "cell_type": "code",
   "execution_count": 190,
   "id": "f348d842",
   "metadata": {},
   "outputs": [
    {
     "name": "stdout",
     "output_type": "stream",
     "text": [
      "*******\n",
      "*****\n",
      " ***\n"
     ]
    }
   ],
   "source": [
    "pyramid(n=3)"
   ]
  },
  {
   "cell_type": "code",
   "execution_count": 191,
   "id": "769198d3",
   "metadata": {},
   "outputs": [
    {
     "name": "stdout",
     "output_type": "stream",
     "text": [
      "***********\n",
      " *********\n",
      "  *******\n",
      "   *****\n",
      "    ***\n",
      "     *\n"
     ]
    }
   ],
   "source": [
    "def print_inverted_pyramid(n):\n",
    "    for i in range(n, 0, -1):\n",
    "        spaces = ' ' * (n - i)\n",
    "        stars = '*' * (2 * i - 1)\n",
    "        print(spaces + stars)\n",
    "\n",
    "# Example usage:\n",
    "N = 6\n",
    "print_inverted_pyramid(N)\n"
   ]
  },
  {
   "cell_type": "code",
   "execution_count": null,
   "id": "b861749a",
   "metadata": {},
   "outputs": [],
   "source": []
  }
 ],
 "metadata": {
  "kernelspec": {
   "display_name": "Python 3",
   "language": "python",
   "name": "python3"
  },
  "language_info": {
   "codemirror_mode": {
    "name": "ipython",
    "version": 3
   },
   "file_extension": ".py",
   "mimetype": "text/x-python",
   "name": "python",
   "nbconvert_exporter": "python",
   "pygments_lexer": "ipython3",
   "version": "3.9.6"
  }
 },
 "nbformat": 4,
 "nbformat_minor": 5
}
