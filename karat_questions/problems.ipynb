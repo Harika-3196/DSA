{
 "cells": [
  {
   "cell_type": "markdown",
   "id": "79ad3791",
   "metadata": {},
   "source": [
    "# string compression \n",
    "\n",
    "# convert aaaaadddff ----> a5d2f2"
   ]
  },
  {
   "cell_type": "code",
   "execution_count": null,
   "id": "70be3dfe",
   "metadata": {},
   "outputs": [],
   "source": [
    "def string_compression(s):\n",
    "    if not s:\n",
    "        return \"\"\n",
    "    res=[]\n",
    "    i=0\n",
    "    while i<len(s):     \n",
    "        count=1\n",
    "        while i+1<len(s) and s[i]==s[i+1]: #check for repetetion\n",
    "            count+=1\n",
    "            i+=1  #moving pointer forward\n",
    "        res.append(s[i]+str(count))\n",
    "        i+=1 #moving character forward\n",
    "    return ''.join(res)\n",
    "\n",
    "    \n"
   ]
  },
  {
   "cell_type": "code",
   "execution_count": 3,
   "id": "b7c8d51c",
   "metadata": {},
   "outputs": [
    {
     "data": {
      "text/plain": [
       "'a8d4'"
      ]
     },
     "execution_count": 3,
     "metadata": {},
     "output_type": "execute_result"
    }
   ],
   "source": [
    "string_compression(\"aaaaaaaadddd\")"
   ]
  },
  {
   "cell_type": "markdown",
   "id": "9ffef34e",
   "metadata": {},
   "source": [
    "outer while loop process each character only once and inner while loop proess if characters repeat but in total pointer i increments atmost n times\n",
    "\n",
    "time complexity-o(n)\n",
    "space complexity -o(n) it is total extra space propertional to input size n"
   ]
  },
  {
   "cell_type": "markdown",
   "id": "50db6eee",
   "metadata": {},
   "source": [
    "stack to check open parenthesis"
   ]
  },
  {
   "cell_type": "code",
   "execution_count": 8,
   "id": "1d7c4b20",
   "metadata": {},
   "outputs": [],
   "source": [
    "def valid_parenthesis(s):\n",
    "    stack=[]\n",
    "    pairs={\")\":\"(\",\"]\":\"[\",\"}\":\"{\"}\n",
    "    for ch in s:\n",
    "        if ch in pairs.values():\n",
    "            stack.append(ch)\n",
    "        elif ch in pairs:\n",
    "            if not stack or stack.pop()!=pairs[ch]:\n",
    "                return False\n",
    "    return not stack\n"
   ]
  },
  {
   "cell_type": "code",
   "execution_count": 10,
   "id": "3b4d5b52",
   "metadata": {},
   "outputs": [
    {
     "data": {
      "text/plain": [
       "True"
      ]
     },
     "execution_count": 10,
     "metadata": {},
     "output_type": "execute_result"
    }
   ],
   "source": [
    "valid_parenthesis(\"()\")"
   ]
  },
  {
   "cell_type": "markdown",
   "id": "42b5d3fd",
   "metadata": {},
   "source": [
    "time complexity : looping through character once - so 0(n)\n",
    "stack grows to size n in worst case if all are open brackets -o(n)"
   ]
  },
  {
   "cell_type": "markdown",
   "id": "6ec72332",
   "metadata": {},
   "source": [
    "# First Repeated Character"
   ]
  },
  {
   "cell_type": "code",
   "execution_count": 11,
   "id": "db8636b0",
   "metadata": {},
   "outputs": [],
   "source": [
    "def first_repeated_character(s):\n",
    "    seen=set()\n",
    "    for ch in s:\n",
    "        if ch in seen:\n",
    "            return ch\n",
    "        seen.add(ch)\n",
    "    return None"
   ]
  },
  {
   "cell_type": "code",
   "execution_count": 13,
   "id": "fc407dbe",
   "metadata": {},
   "outputs": [],
   "source": [
    "first_repeated_character(\"AN\")"
   ]
  },
  {
   "cell_type": "markdown",
   "id": "8a7a1a14",
   "metadata": {},
   "source": [
    "Group Anagrams [\"bat\",\"tab\",\"eat\",\"tea\"]----->[[\"bat\",\"tab\"],[\"eat\",\"tea\"]]"
   ]
  },
  {
   "cell_type": "code",
   "execution_count": 22,
   "id": "136fb7d5",
   "metadata": {},
   "outputs": [],
   "source": [
    "from collections import defaultdict\n",
    "def group_anagrams(words):\n",
    "    groups=defaultdict(list)\n",
    "    for word in words:\n",
    "        key=\"\".join(sorted(word))\n",
    "        groups[key].append(word)\n",
    "    return list(groups.values())"
   ]
  },
  {
   "cell_type": "code",
   "execution_count": 23,
   "id": "b945d4fa",
   "metadata": {},
   "outputs": [
    {
     "data": {
      "text/plain": [
       "[['bat', 'tab'], ['eat', 'tea']]"
      ]
     },
     "execution_count": 23,
     "metadata": {},
     "output_type": "execute_result"
    }
   ],
   "source": [
    "group_anagrams([\"bat\",\"tab\",\"eat\",\"tea\"])"
   ]
  },
  {
   "cell_type": "code",
   "execution_count": null,
   "id": "cc931718",
   "metadata": {},
   "outputs": [],
   "source": []
  }
 ],
 "metadata": {
  "kernelspec": {
   "display_name": "Python 3",
   "language": "python",
   "name": "python3"
  },
  "language_info": {
   "codemirror_mode": {
    "name": "ipython",
    "version": 3
   },
   "file_extension": ".py",
   "mimetype": "text/x-python",
   "name": "python",
   "nbconvert_exporter": "python",
   "pygments_lexer": "ipython3",
   "version": "3.9.6"
  }
 },
 "nbformat": 4,
 "nbformat_minor": 5
}
